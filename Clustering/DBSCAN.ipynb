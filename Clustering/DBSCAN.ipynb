{
 "cells": [
  {
   "cell_type": "code",
   "execution_count": 11,
   "outputs": [
    {
     "name": "stdout",
     "output_type": "stream",
     "text": [
      "Collecting basemap\r\n",
      "  Downloading basemap-1.3.3.zip (155 kB)\r\n",
      "\u001B[K     |████████████████████████████████| 155 kB 1.3 MB/s eta 0:00:01\r\n",
      "\u001B[?25h  Installing build dependencies ... \u001B[?25ldone\r\n",
      "\u001B[?25h  Getting requirements to build wheel ... \u001B[?25ldone\r\n",
      "\u001B[?25h    Preparing wheel metadata ... \u001B[?25ldone\r\n",
      "\u001B[?25hCollecting numpy<1.23,>=1.21; python_version >= \"3.7\"\r\n",
      "  Downloading numpy-1.21.6-cp37-cp37m-macosx_10_9_x86_64.whl (16.9 MB)\r\n",
      "\u001B[K     |████████████████████████████████| 16.9 MB 6.9 MB/s eta 0:00:01\r\n",
      "\u001B[?25hCollecting pyproj<3.4.0,>=1.9.3; python_version >= \"3.5\"\r\n",
      "  Downloading pyproj-3.2.1-cp37-cp37m-macosx_10_9_x86_64.whl (7.5 MB)\r\n",
      "\u001B[K     |████████████████████████████████| 7.5 MB 7.4 MB/s eta 0:00:01\r\n",
      "\u001B[?25hRequirement already satisfied: matplotlib<3.6,>=1.5; python_version >= \"3.5\" in /Library/Frameworks/Python.framework/Versions/3.7/lib/python3.7/site-packages (from basemap) (3.5.2)\r\n",
      "Collecting pyshp<2.2,>=1.2; python_version >= \"2.7\"\r\n",
      "  Downloading pyshp-2.1.3.tar.gz (219 kB)\r\n",
      "\u001B[K     |████████████████████████████████| 219 kB 51.3 MB/s eta 0:00:01\r\n",
      "\u001B[?25hCollecting basemap-data<1.4,>=1.3.2\r\n",
      "  Downloading basemap_data-1.3.2-py2.py3-none-any.whl (30.5 MB)\r\n",
      "\u001B[K     |████████████████████████████████| 30.5 MB 64.7 MB/s eta 0:00:01\r\n",
      "\u001B[?25hRequirement already satisfied: certifi in /Users/mansoor/Library/Python/3.7/lib/python/site-packages (from pyproj<3.4.0,>=1.9.3; python_version >= \"3.5\"->basemap) (2020.12.5)\r\n",
      "Requirement already satisfied: fonttools>=4.22.0 in /Library/Frameworks/Python.framework/Versions/3.7/lib/python3.7/site-packages (from matplotlib<3.6,>=1.5; python_version >= \"3.5\"->basemap) (4.33.3)\r\n",
      "Requirement already satisfied: pyparsing>=2.2.1 in /Library/Frameworks/Python.framework/Versions/3.7/lib/python3.7/site-packages (from matplotlib<3.6,>=1.5; python_version >= \"3.5\"->basemap) (2.4.7)\r\n",
      "Requirement already satisfied: cycler>=0.10 in /Library/Frameworks/Python.framework/Versions/3.7/lib/python3.7/site-packages (from matplotlib<3.6,>=1.5; python_version >= \"3.5\"->basemap) (0.11.0)\r\n",
      "Requirement already satisfied: packaging>=20.0 in /Library/Frameworks/Python.framework/Versions/3.7/lib/python3.7/site-packages (from matplotlib<3.6,>=1.5; python_version >= \"3.5\"->basemap) (20.9)\r\n",
      "Requirement already satisfied: kiwisolver>=1.0.1 in /Library/Frameworks/Python.framework/Versions/3.7/lib/python3.7/site-packages (from matplotlib<3.6,>=1.5; python_version >= \"3.5\"->basemap) (1.4.2)\r\n",
      "Requirement already satisfied: pillow>=6.2.0 in /Library/Frameworks/Python.framework/Versions/3.7/lib/python3.7/site-packages (from matplotlib<3.6,>=1.5; python_version >= \"3.5\"->basemap) (9.1.1)\r\n",
      "Requirement already satisfied: python-dateutil>=2.7 in /Library/Frameworks/Python.framework/Versions/3.7/lib/python3.7/site-packages (from matplotlib<3.6,>=1.5; python_version >= \"3.5\"->basemap) (2.8.1)\r\n",
      "Requirement already satisfied: typing-extensions; python_version < \"3.8\" in /Library/Frameworks/Python.framework/Versions/3.7/lib/python3.7/site-packages (from kiwisolver>=1.0.1->matplotlib<3.6,>=1.5; python_version >= \"3.5\"->basemap) (3.10.0.0)\r\n",
      "Requirement already satisfied: six>=1.5 in /Library/Frameworks/Python.framework/Versions/3.7/lib/python3.7/site-packages (from python-dateutil>=2.7->matplotlib<3.6,>=1.5; python_version >= \"3.5\"->basemap) (1.15.0)\r\n",
      "Building wheels for collected packages: basemap, pyshp\r\n",
      "  Building wheel for basemap (PEP 517) ... \u001B[?25lerror\r\n",
      "\u001B[31m  ERROR: Command errored out with exit status 1:\r\n",
      "   command: /Library/Frameworks/Python.framework/Versions/3.7/bin/python3.7 /Library/Frameworks/Python.framework/Versions/3.7/lib/python3.7/site-packages/pip/_vendor/pep517/_in_process.py build_wheel /var/folders/18/4b5clc_j5h17_49vvw18f62w0000gn/T/tmpw7ei8y6h\r\n",
      "       cwd: /private/var/folders/18/4b5clc_j5h17_49vvw18f62w0000gn/T/pip-install-sm6joggu/basemap\r\n",
      "  Complete output (36 lines):\r\n",
      "  running bdist_wheel\r\n",
      "  running build\r\n",
      "  running build_py\r\n",
      "  creating build\r\n",
      "  creating build/lib.macosx-10.9-x86_64-cpython-37\r\n",
      "  creating build/lib.macosx-10.9-x86_64-cpython-37/mpl_toolkits\r\n",
      "  copying src/mpl_toolkits/__init__.py -> build/lib.macosx-10.9-x86_64-cpython-37/mpl_toolkits\r\n",
      "  creating build/lib.macosx-10.9-x86_64-cpython-37/mpl_toolkits/basemap\r\n",
      "  copying src/mpl_toolkits/basemap/cm.py -> build/lib.macosx-10.9-x86_64-cpython-37/mpl_toolkits/basemap\r\n",
      "  copying src/mpl_toolkits/basemap/__init__.py -> build/lib.macosx-10.9-x86_64-cpython-37/mpl_toolkits/basemap\r\n",
      "  copying src/mpl_toolkits/basemap/test.py -> build/lib.macosx-10.9-x86_64-cpython-37/mpl_toolkits/basemap\r\n",
      "  copying src/mpl_toolkits/basemap/diagnostic.py -> build/lib.macosx-10.9-x86_64-cpython-37/mpl_toolkits/basemap\r\n",
      "  copying src/mpl_toolkits/basemap/proj.py -> build/lib.macosx-10.9-x86_64-cpython-37/mpl_toolkits/basemap\r\n",
      "  copying src/mpl_toolkits/basemap/solar.py -> build/lib.macosx-10.9-x86_64-cpython-37/mpl_toolkits/basemap\r\n",
      "  running build_ext\r\n",
      "  cythoning src/_geoslib.pyx to src/_geoslib.c\r\n",
      "  building '_geoslib' extension\r\n",
      "  creating build/temp.macosx-10.9-x86_64-cpython-37\r\n",
      "  creating build/temp.macosx-10.9-x86_64-cpython-37/src\r\n",
      "  gcc -Wno-unused-result -Wsign-compare -Wunreachable-code -fno-common -dynamic -DNDEBUG -g -fwrapv -O3 -Wall -arch x86_64 -g -I/private/var/folders/18/4b5clc_j5h17_49vvw18f62w0000gn/T/pip-build-env-n5qb15ap/overlay/lib/python3.7/site-packages/numpy/core/include -I/Library/Frameworks/Python.framework/Versions/3.7/include/python3.7m -c src/_geoslib.c -o build/temp.macosx-10.9-x86_64-cpython-37/src/_geoslib.o\r\n",
      "  In file included from src/_geoslib.c:696:\r\n",
      "  In file included from /private/var/folders/18/4b5clc_j5h17_49vvw18f62w0000gn/T/pip-build-env-n5qb15ap/overlay/lib/python3.7/site-packages/numpy/core/include/numpy/arrayobject.h:4:\r\n",
      "  In file included from /private/var/folders/18/4b5clc_j5h17_49vvw18f62w0000gn/T/pip-build-env-n5qb15ap/overlay/lib/python3.7/site-packages/numpy/core/include/numpy/ndarrayobject.h:12:\r\n",
      "  In file included from /private/var/folders/18/4b5clc_j5h17_49vvw18f62w0000gn/T/pip-build-env-n5qb15ap/overlay/lib/python3.7/site-packages/numpy/core/include/numpy/ndarraytypes.h:1822:\r\n",
      "  /private/var/folders/18/4b5clc_j5h17_49vvw18f62w0000gn/T/pip-build-env-n5qb15ap/overlay/lib/python3.7/site-packages/numpy/core/include/numpy/npy_1_7_deprecated_api.h:17:2: warning: \"Using deprecated NumPy API, disable it with \"          \"#define NPY_NO_DEPRECATED_API NPY_1_7_API_VERSION\" [-W#warnings]\r\n",
      "  #warning \"Using deprecated NumPy API, disable it with \" \\\r\n",
      "   ^\r\n",
      "  src/_geoslib.c:697:10: fatal error: 'geos_c.h' file not found\r\n",
      "  #include \"geos_c.h\"\r\n",
      "           ^~~~~~~~~~\r\n",
      "  1 warning and 1 error generated.\r\n",
      "  setup.py:66: RuntimeWarning: Cannot find GEOS library and/or headers in standard locations ('/Users/mansoor/local', '/Users/mansoor', '/usr/local', '/usr', '/opt/local', '/opt', '/sw'). Please install the corresponding packages using your software management system or set the environment variable GEOS_DIR to point to the location where GEOS is installed (for example, if 'geos_c.h' is in '/usr/local/include' and 'libgeos_c' is in '/usr/local/lib', then you need to set GEOS_DIR to '/usr/local'\r\n",
      "    ]).format(\"', '\".join(candidates)), RuntimeWarning)\r\n",
      "  /private/var/folders/18/4b5clc_j5h17_49vvw18f62w0000gn/T/pip-build-env-n5qb15ap/overlay/lib/python3.7/site-packages/setuptools/dist.py:287: SetuptoolsDeprecationWarning: The namespace_packages parameter is deprecated, consider using implicit namespaces instead (PEP 420).\r\n",
      "    warnings.warn(msg, SetuptoolsDeprecationWarning)\r\n",
      "  error: command '/usr/bin/gcc' failed with exit code 1\r\n",
      "  ----------------------------------------\u001B[0m\r\n",
      "\u001B[31m  ERROR: Failed building wheel for basemap\u001B[0m\r\n",
      "\u001B[?25h  Building wheel for pyshp (setup.py) ... \u001B[?25ldone\r\n",
      "\u001B[?25h  Created wheel for pyshp: filename=pyshp-2.1.3-py3-none-any.whl size=37263 sha256=29592ee9dbca6139f99b2e54b338331a66612d393f5647980a6b61b50dff6387\r\n",
      "  Stored in directory: /Users/mansoor/Library/Caches/pip/wheels/43/f8/87/53c8cd41545ba20e536ea29a8fcb5431b5f477ca50d5dffbbe\r\n",
      "Successfully built pyshp\r\n",
      "Failed to build basemap\r\n",
      "\u001B[31mERROR: Could not build wheels for basemap which use PEP 517 and cannot be installed directly\u001B[0m\r\n",
      "\u001B[33mWARNING: You are using pip version 20.1.1; however, version 22.1.1 is available.\r\n",
      "You should consider upgrading via the '/Library/Frameworks/Python.framework/Versions/3.7/bin/python3.7 -m pip install --upgrade pip' command.\u001B[0m\r\n"
     ]
    }
   ],
   "source": [
    "import sys\n",
    "!{sys.executable} -m pip install basemap"
   ],
   "metadata": {
    "collapsed": false,
    "pycharm": {
     "name": "#%%\n"
    }
   }
  },
  {
   "cell_type": "code",
   "execution_count": 4,
   "outputs": [],
   "source": [
    "import numpy as np\n",
    "from sklearn.cluster import DBSCAN\n",
    "from sklearn.datasets import _samples_generator\n",
    "from sklearn.preprocessing import StandardScaler\n",
    "import matplotlib.pyplot as plt\n",
    "import requests\n",
    "%matplotlib inline\n",
    "import warnings\n",
    "warnings.filterwarnings(\"ignore\", category=DeprecationWarning)"
   ],
   "metadata": {
    "collapsed": false,
    "pycharm": {
     "name": "#%%\n"
    }
   }
  },
  {
   "cell_type": "code",
   "execution_count": 5,
   "outputs": [],
   "source": [
    "path = \"https://cf-courses-data.s3.us.cloud-object-storage.appdomain.cloud/IBMDeveloperSkillsNetwork-ML0101EN-SkillsNetwork/labs/Module%204/data/weather-stations20140101-20141231.csv\"\n",
    "\n",
    "def download(path,name):\n",
    "    with open(name,\"wb\") as csv_file:\n",
    "        csv_file.write(requests.get(path).content)\n",
    "download(path,\"weather-stations20140101-20141231.csv\")"
   ],
   "metadata": {
    "collapsed": false,
    "pycharm": {
     "name": "#%%\n"
    }
   }
  },
  {
   "cell_type": "code",
   "execution_count": 6,
   "outputs": [
    {
     "data": {
      "text/plain": "                 Stn_Name     Lat     Long Prov   Tm  DwTm    D    Tx  DwTx  \\\n0               CHEMAINUS  48.935 -123.742   BC  8.2   0.0  NaN  13.5   0.0   \n1  COWICHAN LAKE FORESTRY  48.824 -124.133   BC  7.0   0.0  3.0  15.0   0.0   \n2           LAKE COWICHAN  48.829 -124.052   BC  6.8  13.0  2.8  16.0   9.0   \n3        DISCOVERY ISLAND  48.425 -123.226   BC  NaN   NaN  NaN  12.5   0.0   \n4     DUNCAN KELVIN CREEK  48.735 -123.728   BC  7.7   2.0  3.4  14.5   2.0   \n\n    Tn  ...  DwP    P%N  S_G    Pd  BS  DwBS  BS%    HDD  CDD   Stn_No  \n0  1.0  ...  0.0    NaN  0.0  12.0 NaN   NaN  NaN  273.3  0.0  1011500  \n1 -3.0  ...  0.0  104.0  0.0  12.0 NaN   NaN  NaN  307.0  0.0  1012040  \n2 -2.5  ...  9.0    NaN  NaN  11.0 NaN   NaN  NaN  168.1  0.0  1012055  \n3  NaN  ...  NaN    NaN  NaN   NaN NaN   NaN  NaN    NaN  NaN  1012475  \n4 -1.0  ...  2.0    NaN  NaN  11.0 NaN   NaN  NaN  267.7  0.0  1012573  \n\n[5 rows x 25 columns]",
      "text/html": "<div>\n<style scoped>\n    .dataframe tbody tr th:only-of-type {\n        vertical-align: middle;\n    }\n\n    .dataframe tbody tr th {\n        vertical-align: top;\n    }\n\n    .dataframe thead th {\n        text-align: right;\n    }\n</style>\n<table border=\"1\" class=\"dataframe\">\n  <thead>\n    <tr style=\"text-align: right;\">\n      <th></th>\n      <th>Stn_Name</th>\n      <th>Lat</th>\n      <th>Long</th>\n      <th>Prov</th>\n      <th>Tm</th>\n      <th>DwTm</th>\n      <th>D</th>\n      <th>Tx</th>\n      <th>DwTx</th>\n      <th>Tn</th>\n      <th>...</th>\n      <th>DwP</th>\n      <th>P%N</th>\n      <th>S_G</th>\n      <th>Pd</th>\n      <th>BS</th>\n      <th>DwBS</th>\n      <th>BS%</th>\n      <th>HDD</th>\n      <th>CDD</th>\n      <th>Stn_No</th>\n    </tr>\n  </thead>\n  <tbody>\n    <tr>\n      <th>0</th>\n      <td>CHEMAINUS</td>\n      <td>48.935</td>\n      <td>-123.742</td>\n      <td>BC</td>\n      <td>8.2</td>\n      <td>0.0</td>\n      <td>NaN</td>\n      <td>13.5</td>\n      <td>0.0</td>\n      <td>1.0</td>\n      <td>...</td>\n      <td>0.0</td>\n      <td>NaN</td>\n      <td>0.0</td>\n      <td>12.0</td>\n      <td>NaN</td>\n      <td>NaN</td>\n      <td>NaN</td>\n      <td>273.3</td>\n      <td>0.0</td>\n      <td>1011500</td>\n    </tr>\n    <tr>\n      <th>1</th>\n      <td>COWICHAN LAKE FORESTRY</td>\n      <td>48.824</td>\n      <td>-124.133</td>\n      <td>BC</td>\n      <td>7.0</td>\n      <td>0.0</td>\n      <td>3.0</td>\n      <td>15.0</td>\n      <td>0.0</td>\n      <td>-3.0</td>\n      <td>...</td>\n      <td>0.0</td>\n      <td>104.0</td>\n      <td>0.0</td>\n      <td>12.0</td>\n      <td>NaN</td>\n      <td>NaN</td>\n      <td>NaN</td>\n      <td>307.0</td>\n      <td>0.0</td>\n      <td>1012040</td>\n    </tr>\n    <tr>\n      <th>2</th>\n      <td>LAKE COWICHAN</td>\n      <td>48.829</td>\n      <td>-124.052</td>\n      <td>BC</td>\n      <td>6.8</td>\n      <td>13.0</td>\n      <td>2.8</td>\n      <td>16.0</td>\n      <td>9.0</td>\n      <td>-2.5</td>\n      <td>...</td>\n      <td>9.0</td>\n      <td>NaN</td>\n      <td>NaN</td>\n      <td>11.0</td>\n      <td>NaN</td>\n      <td>NaN</td>\n      <td>NaN</td>\n      <td>168.1</td>\n      <td>0.0</td>\n      <td>1012055</td>\n    </tr>\n    <tr>\n      <th>3</th>\n      <td>DISCOVERY ISLAND</td>\n      <td>48.425</td>\n      <td>-123.226</td>\n      <td>BC</td>\n      <td>NaN</td>\n      <td>NaN</td>\n      <td>NaN</td>\n      <td>12.5</td>\n      <td>0.0</td>\n      <td>NaN</td>\n      <td>...</td>\n      <td>NaN</td>\n      <td>NaN</td>\n      <td>NaN</td>\n      <td>NaN</td>\n      <td>NaN</td>\n      <td>NaN</td>\n      <td>NaN</td>\n      <td>NaN</td>\n      <td>NaN</td>\n      <td>1012475</td>\n    </tr>\n    <tr>\n      <th>4</th>\n      <td>DUNCAN KELVIN CREEK</td>\n      <td>48.735</td>\n      <td>-123.728</td>\n      <td>BC</td>\n      <td>7.7</td>\n      <td>2.0</td>\n      <td>3.4</td>\n      <td>14.5</td>\n      <td>2.0</td>\n      <td>-1.0</td>\n      <td>...</td>\n      <td>2.0</td>\n      <td>NaN</td>\n      <td>NaN</td>\n      <td>11.0</td>\n      <td>NaN</td>\n      <td>NaN</td>\n      <td>NaN</td>\n      <td>267.7</td>\n      <td>0.0</td>\n      <td>1012573</td>\n    </tr>\n  </tbody>\n</table>\n<p>5 rows × 25 columns</p>\n</div>"
     },
     "execution_count": 6,
     "metadata": {},
     "output_type": "execute_result"
    }
   ],
   "source": [
    "import csv\n",
    "import pandas as pd\n",
    "\n",
    "pdf = pd.read_csv(\"weather-stations20140101-20141231.csv\")\n",
    "pdf.head()"
   ],
   "metadata": {
    "collapsed": false,
    "pycharm": {
     "name": "#%%\n"
    }
   }
  },
  {
   "cell_type": "code",
   "execution_count": 7,
   "outputs": [
    {
     "data": {
      "text/plain": "                 Stn_Name     Lat     Long Prov   Tm  DwTm    D    Tx  DwTx  \\\n0               CHEMAINUS  48.935 -123.742   BC  8.2   0.0  NaN  13.5   0.0   \n1  COWICHAN LAKE FORESTRY  48.824 -124.133   BC  7.0   0.0  3.0  15.0   0.0   \n2           LAKE COWICHAN  48.829 -124.052   BC  6.8  13.0  2.8  16.0   9.0   \n3     DUNCAN KELVIN CREEK  48.735 -123.728   BC  7.7   2.0  3.4  14.5   2.0   \n4       ESQUIMALT HARBOUR  48.432 -123.439   BC  8.8   0.0  NaN  13.1   0.0   \n\n    Tn  ...  DwP    P%N  S_G    Pd  BS  DwBS  BS%    HDD  CDD   Stn_No  \n0  1.0  ...  0.0    NaN  0.0  12.0 NaN   NaN  NaN  273.3  0.0  1011500  \n1 -3.0  ...  0.0  104.0  0.0  12.0 NaN   NaN  NaN  307.0  0.0  1012040  \n2 -2.5  ...  9.0    NaN  NaN  11.0 NaN   NaN  NaN  168.1  0.0  1012055  \n3 -1.0  ...  2.0    NaN  NaN  11.0 NaN   NaN  NaN  267.7  0.0  1012573  \n4  1.9  ...  8.0    NaN  NaN  12.0 NaN   NaN  NaN  258.6  0.0  1012710  \n\n[5 rows x 25 columns]",
      "text/html": "<div>\n<style scoped>\n    .dataframe tbody tr th:only-of-type {\n        vertical-align: middle;\n    }\n\n    .dataframe tbody tr th {\n        vertical-align: top;\n    }\n\n    .dataframe thead th {\n        text-align: right;\n    }\n</style>\n<table border=\"1\" class=\"dataframe\">\n  <thead>\n    <tr style=\"text-align: right;\">\n      <th></th>\n      <th>Stn_Name</th>\n      <th>Lat</th>\n      <th>Long</th>\n      <th>Prov</th>\n      <th>Tm</th>\n      <th>DwTm</th>\n      <th>D</th>\n      <th>Tx</th>\n      <th>DwTx</th>\n      <th>Tn</th>\n      <th>...</th>\n      <th>DwP</th>\n      <th>P%N</th>\n      <th>S_G</th>\n      <th>Pd</th>\n      <th>BS</th>\n      <th>DwBS</th>\n      <th>BS%</th>\n      <th>HDD</th>\n      <th>CDD</th>\n      <th>Stn_No</th>\n    </tr>\n  </thead>\n  <tbody>\n    <tr>\n      <th>0</th>\n      <td>CHEMAINUS</td>\n      <td>48.935</td>\n      <td>-123.742</td>\n      <td>BC</td>\n      <td>8.2</td>\n      <td>0.0</td>\n      <td>NaN</td>\n      <td>13.5</td>\n      <td>0.0</td>\n      <td>1.0</td>\n      <td>...</td>\n      <td>0.0</td>\n      <td>NaN</td>\n      <td>0.0</td>\n      <td>12.0</td>\n      <td>NaN</td>\n      <td>NaN</td>\n      <td>NaN</td>\n      <td>273.3</td>\n      <td>0.0</td>\n      <td>1011500</td>\n    </tr>\n    <tr>\n      <th>1</th>\n      <td>COWICHAN LAKE FORESTRY</td>\n      <td>48.824</td>\n      <td>-124.133</td>\n      <td>BC</td>\n      <td>7.0</td>\n      <td>0.0</td>\n      <td>3.0</td>\n      <td>15.0</td>\n      <td>0.0</td>\n      <td>-3.0</td>\n      <td>...</td>\n      <td>0.0</td>\n      <td>104.0</td>\n      <td>0.0</td>\n      <td>12.0</td>\n      <td>NaN</td>\n      <td>NaN</td>\n      <td>NaN</td>\n      <td>307.0</td>\n      <td>0.0</td>\n      <td>1012040</td>\n    </tr>\n    <tr>\n      <th>2</th>\n      <td>LAKE COWICHAN</td>\n      <td>48.829</td>\n      <td>-124.052</td>\n      <td>BC</td>\n      <td>6.8</td>\n      <td>13.0</td>\n      <td>2.8</td>\n      <td>16.0</td>\n      <td>9.0</td>\n      <td>-2.5</td>\n      <td>...</td>\n      <td>9.0</td>\n      <td>NaN</td>\n      <td>NaN</td>\n      <td>11.0</td>\n      <td>NaN</td>\n      <td>NaN</td>\n      <td>NaN</td>\n      <td>168.1</td>\n      <td>0.0</td>\n      <td>1012055</td>\n    </tr>\n    <tr>\n      <th>3</th>\n      <td>DUNCAN KELVIN CREEK</td>\n      <td>48.735</td>\n      <td>-123.728</td>\n      <td>BC</td>\n      <td>7.7</td>\n      <td>2.0</td>\n      <td>3.4</td>\n      <td>14.5</td>\n      <td>2.0</td>\n      <td>-1.0</td>\n      <td>...</td>\n      <td>2.0</td>\n      <td>NaN</td>\n      <td>NaN</td>\n      <td>11.0</td>\n      <td>NaN</td>\n      <td>NaN</td>\n      <td>NaN</td>\n      <td>267.7</td>\n      <td>0.0</td>\n      <td>1012573</td>\n    </tr>\n    <tr>\n      <th>4</th>\n      <td>ESQUIMALT HARBOUR</td>\n      <td>48.432</td>\n      <td>-123.439</td>\n      <td>BC</td>\n      <td>8.8</td>\n      <td>0.0</td>\n      <td>NaN</td>\n      <td>13.1</td>\n      <td>0.0</td>\n      <td>1.9</td>\n      <td>...</td>\n      <td>8.0</td>\n      <td>NaN</td>\n      <td>NaN</td>\n      <td>12.0</td>\n      <td>NaN</td>\n      <td>NaN</td>\n      <td>NaN</td>\n      <td>258.6</td>\n      <td>0.0</td>\n      <td>1012710</td>\n    </tr>\n  </tbody>\n</table>\n<p>5 rows × 25 columns</p>\n</div>"
     },
     "execution_count": 7,
     "metadata": {},
     "output_type": "execute_result"
    }
   ],
   "source": [
    "pdf = pdf[pd.notnull(pdf[\"Tm\"])]\n",
    "pdf = pdf.reset_index(drop=True)\n",
    "pdf.head(5)"
   ],
   "metadata": {
    "collapsed": false,
    "pycharm": {
     "name": "#%%\n"
    }
   }
  }
 ],
 "metadata": {
  "kernelspec": {
   "display_name": "Python 3",
   "language": "python",
   "name": "python3"
  },
  "language_info": {
   "codemirror_mode": {
    "name": "ipython",
    "version": 2
   },
   "file_extension": ".py",
   "mimetype": "text/x-python",
   "name": "python",
   "nbconvert_exporter": "python",
   "pygments_lexer": "ipython2",
   "version": "2.7.6"
  }
 },
 "nbformat": 4,
 "nbformat_minor": 0
}